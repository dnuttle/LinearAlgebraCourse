{
 "cells": [
  {
   "cell_type": "code",
   "execution_count": 1,
   "metadata": {},
   "outputs": [
    {
     "name": "stdout",
     "output_type": "stream",
     "text": [
      "[[ 1.40608634  1.8470609   2.86795706  3.73175784  5.21635191]\n",
      " [ 0.84923065  4.87240588  5.61939655  8.15951955  9.87531481]\n",
      " [ 4.09658095  4.45489447  8.7581871  11.71195923 15.85032708]\n",
      " [ 2.90010873  7.82757179 11.12214158 16.04221375 20.58281521]\n",
      " [ 3.62422603 11.43090464 16.1269884  20.62811792 26.12606994]]\n",
      "[1 2 3 4 5]\n"
     ]
    },
    {
     "data": {
      "text/plain": [
       "'x (weights): '"
      ]
     },
     "metadata": {},
     "output_type": "display_data"
    },
    {
     "data": {
      "text/plain": [
       "array([ 0.08953732,  0.0718547 , -0.11251073,  0.17508985,  0.07872663])"
      ]
     },
     "metadata": {},
     "output_type": "display_data"
    },
    {
     "name": "stderr",
     "output_type": "stream",
     "text": [
      "/usr/local/lib/python2.7/site-packages/scipy/linalg/basic.py:1226: RuntimeWarning: internal gelsd driver lwork query error, required iwork dimension not returned. This is likely the result of LAPACK bug 0038, fixed in LAPACK 3.2.2 (released July 21, 2010). Falling back to 'gelss' driver.\n",
      "  warnings.warn(mesg, RuntimeWarning)\n"
     ]
    },
    {
     "data": {
      "text/plain": [
       "['sk: ', array([1.])]"
      ]
     },
     "metadata": {},
     "output_type": "display_data"
    },
    {
     "data": {
      "text/plain": [
       "['me: ', 0.999999999996746]"
      ]
     },
     "metadata": {},
     "output_type": "display_data"
    },
    {
     "data": {
      "text/plain": [
       "['sk: ', array([2.])]"
      ]
     },
     "metadata": {},
     "output_type": "display_data"
    },
    {
     "data": {
      "text/plain": [
       "['me: ', 1.9999999999899325]"
      ]
     },
     "metadata": {},
     "output_type": "display_data"
    },
    {
     "data": {
      "text/plain": [
       "['sk: ', array([3.])]"
      ]
     },
     "metadata": {},
     "output_type": "display_data"
    },
    {
     "data": {
      "text/plain": [
       "['me: ', 2.999999999997553]"
      ]
     },
     "metadata": {},
     "output_type": "display_data"
    },
    {
     "data": {
      "text/plain": [
       "['sk: ', array([4.])]"
      ]
     },
     "metadata": {},
     "output_type": "display_data"
    },
    {
     "data": {
      "text/plain": [
       "['me: ', 3.9999999999875016]"
      ]
     },
     "metadata": {},
     "output_type": "display_data"
    }
   ],
   "source": [
    "import numpy as np\n",
    "import matplotlib.pyplot as plt\n",
    "import sklearn as sk\n",
    "from sklearn import linear_model\n",
    "np.set_printoptions(linewidth=100)\n",
    "np.random.seed(1)\n",
    "m=5\n",
    "n=5\n",
    "\n",
    "A = (np.arange(1,6) + np.random.randn(m,n) * 0.25)\n",
    "A[1,:] *= 2\n",
    "A[2,:] *= 3\n",
    "A[3,:] *= 4\n",
    "A[4,:] *= 5\n",
    "b = np.arange(1, 6)\n",
    "#A is five independent variables with five values each\n",
    "#b is a dependent variable with five observed values\n",
    "print(A)\n",
    "print(b)\n",
    "\n",
    "#Make a scatterplot for the dependent and first independent variable\n",
    "plt.figure(figsize=(4,4))\n",
    "plt.scatter(np.arange(1,6), A[0,:])\n",
    "\n",
    "#Calculate the weights the hard way\n",
    "x = np.dot(np.linalg.inv(np.matmul(A.T, A)), np.dot(A.T, np.arange(1, 6)))\n",
    "display(\"x (weights): \", x)\n",
    "\n",
    "#Now use sk to build a model\n",
    "lr = sk.linear_model.LinearRegression()\n",
    "\n",
    "lr.fit(A, b)\n",
    "\n",
    "#Compare the manual model with the sk model\n",
    "for rec in np.arange(0,4):\n",
    "    display([\"sk: \", lr.predict(A[rec,:].reshape(1,-1))])\n",
    "    display([\"me: \", np.dot(A[rec,:], x)])"
   ]
  },
  {
   "cell_type": "code",
   "execution_count": 3,
   "metadata": {},
   "outputs": [
    {
     "name": "stdout",
     "output_type": "stream",
     "text": [
      "[2. 0.]\n",
      "[0. 3.]\n"
     ]
    },
    {
     "name": "stderr",
     "output_type": "stream",
     "text": [
      "/usr/local/lib/python2.7/site-packages/matplotlib/cbook/deprecation.py:106: MatplotlibDeprecationWarning: Adding an axes using the same arguments as a previous axes currently reuses the earlier instance.  In a future version, a new instance will always be created and returned.  Meanwhile, this warning can be suppressed, and the future behavior ensured, by passing a unique label to each axes instance.\n",
      "  warnings.warn(message, mplDeprecation, stacklevel=1)\n"
     ]
    },
    {
     "data": {
      "image/png": "[encoded data removed]",
      "text/plain": [
       "<matplotlib.figure.Figure at 0x10b63eb50>"
      ]
     },
     "metadata": {},
     "output_type": "display_data"
    }
   ],
   "source": [
    "#Orthogoanal and parallel vector components\n",
    "#decompose a vector into parallel and perpendicular components compared to a reference vector\n",
    "#not clear yet what purpose/application is\n",
    "def plotvec(v, linewidth=1, linestyle='-', color='black'):\n",
    "    plt.axes().arrow(0,0, *v, head_width=0.05, head_length=0.1, linestyle=linestyle, linewidth=linewidth, color=color)\n",
    "w = np.array([4.,0.])\n",
    "v = np.array([2.,3.])\n",
    "v_perp = np.dot(w, np.dot(w,v)/np.dot(w,w))\n",
    "v_par = v - v_perp\n",
    "print(v_perp)\n",
    "print(v_par)\n",
    "#plt.axes().arrow(0,0,*v, head_width=0.05, head_length=0.1)\n",
    "#plt.axes().arrow(0,0, *w, head_width=0.05, head_length=0.1)\n",
    "plt.figure(figsize=(6,6))\n",
    "plotvec(v)\n",
    "plotvec(w)\n",
    "plotvec(v_perp, 2, ':', 'red')\n",
    "plotvec(v_par, 2, ':', 'red')\n",
    "plt.xlim((-1,5))\n",
    "plt.ylim(-1,5)\n",
    "plt.show()"
   ]
  },
  {
   "cell_type": "code",
   "execution_count": 42,
   "metadata": {},
   "outputs": [
    {
     "data": {
      "image/png": "[encoded data removed]",
      "text/plain": [
       "<matplotlib.figure.Figure at 0x10b928b10>"
      ]
     },
     "metadata": {},
     "output_type": "display_data"
    },
    {
     "name": "stdout",
     "output_type": "stream",
     "text": [
      "A\n",
      "[[ 1  0]\n",
      " [-1  1]]\n",
      "AtA\n",
      "[[ 2 -1]\n",
      " [-1  1]]\n",
      "AtA^-1\n",
      "[[1. 1.]\n",
      " [1. 2.]]\n",
      "beta\n",
      "[1. 5.]\n",
      "A inv\n",
      "[[1. 0.]\n",
      " [1. 1.]]\n",
      "A inv * beta (produces b)\n",
      "[1. 4.]\n"
     ]
    }
   ],
   "source": [
    "#project point onto 2x2 matrix in R2\n",
    "A = np.array([[1,0], [-1, 1]])\n",
    "plt.ylim([-1, 5])\n",
    "plt.xlim(-2, 5)\n",
    "plotvec(A[0,:])\n",
    "plotvec(A[1,:])\n",
    "b = np.array([1,4])\n",
    "#plotvec(b, color='b')\n",
    "plt.plot(b[0], b[1], marker='o')\n",
    "plt.show()\n",
    "\n",
    "AtA = np.matmul(A.T, A)\n",
    "AtAinv = np.linalg.inv(AtA)\n",
    "Ainv = np.linalg.inv(A)\n",
    "beta = np.matmul(AtAinv, np.matmul(A.T, b))\n",
    "print(\"A\")\n",
    "print(A)\n",
    "print(\"AtA\")\n",
    "print(AtA)\n",
    "print(\"AtA^-1\")\n",
    "print(AtAinv)\n",
    "print(\"beta\")\n",
    "print(beta)\n",
    "\n",
    "print(\"A inv\")\n",
    "print(Ainv)\n",
    "#beta times the original matrix A gives b\n",
    "print(\"A inv * beta (produces b)\")\n",
    "print(np.matmul(A, beta))"
   ]
  },
  {
   "cell_type": "code",
   "execution_count": 24,
   "metadata": {},
   "outputs": [
    {
     "name": "stdout",
     "output_type": "stream",
     "text": [
      "[0. 0.]\n"
     ]
    }
   ],
   "source": [
    "A = np.array([[1.,0], [0,1]])\n",
    "b = np.array([1.,1])\n",
    "x = np.matmul(np.linalg.inv(np.matmul(A.T, A)), np.matmul(A.T, b))\n",
    "#The distance between b and A, the matrix onto which it is projected, is zero\n",
    "print(b - np.matmul(A, x))"
   ]
  },
  {
   "cell_type": "code",
   "execution_count": 40,
   "metadata": {},
   "outputs": [
    {
     "name": "stdout",
     "output_type": "stream",
     "text": [
      "A.T * A\n",
      "[[1 0 0]\n",
      " [0 1 0]\n",
      " [0 0 0]]\n",
      "Pseudo inverse of A.T * A\n",
      "[[1. 0. 0.]\n",
      " [0. 1. 0.]\n",
      " [0. 0. 0.]]\n",
      "b - A.T * x\n",
      "[0.  0.  0.1]\n"
     ]
    }
   ],
   "source": [
    "#This time A spans a plan in R2 in the ambient space of R3\n",
    "A = np.array([[1,0,0], [0,1,0],[0,0,0]])\n",
    "#b is a line not on the plane\n",
    "b = np.array([0,0.1,0.1])\n",
    "AtA = np.matmul(A.T, A)\n",
    "Atb = np.matmul(A.T, b)\n",
    "pinv = np.linalg.pinv(AtA)\n",
    "print(\"A.T * A\")\n",
    "print(AtA)\n",
    "print(\"Pseudo inverse of A.T * A\")\n",
    "print(pinv)\n",
    "#Have to use pseduoinverse this time as A.T*A is singular\n",
    "x = np.matmul(pinv, Atb)\n",
    "#The distance between b and A, the matrix onto which it is projected, is zero\n",
    "print(\"b - A.T * x\")\n",
    "print(b - np.matmul(A, x))"
   ]
  },
  {
   "cell_type": "code",
   "execution_count": 39,
   "metadata": {},
   "outputs": [
    {
     "name": "stdout",
     "output_type": "stream",
     "text": [
      "[0.00882353 0.10882353]\n"
     ]
    }
   ],
   "source": [
    "A = np.array([[1,0],[0,1],[0.1,0.1]])\n",
    "b = np.array([0,0.1,0.1])\n",
    "AtA = np.matmul(A.T, A)\n",
    "Atb = np.matmul(A.T, b)\n",
    "print(np.linalg.solve(AtA, Atb))"
   ]
  },
  {
   "cell_type": "code",
   "execution_count": 50,
   "metadata": {},
   "outputs": [
    {
     "name": "stdout",
     "output_type": "stream",
     "text": [
      "[[1 0 0]\n",
      " [0 1 0]\n",
      " [0 0 0]]\n",
      "[[1. 0. 0.]\n",
      " [0. 1. 0.]\n",
      " [0. 0. 0.]]\n",
      "[0. 0. 0.]\n"
     ]
    }
   ],
   "source": [
    "#Example of a vector in R3 being projected onto a 2D plane in R3, but the matrix A is 3x3.\n",
    "#The matrix has zero vector for one row (or column) so it has no inverse.\n",
    "#So the np.linalg.solve method won't work.\n",
    "A = np.array([[1,0,0],[0,1,0],[0,0,0]])\n",
    "b = np.array([1,1,1])\n",
    "print(A)\n",
    "AtA = np.matmul(A.T, A)\n",
    "Atb = np.matmul(A.T, b)\n",
    "#print(np.linalg.solve(AtA, Atb))\n",
    "x = np.matmul(np.linalg.pinv(AtA), AtB)\n",
    "print(x)\n",
    "#Why is the answer the zero vector? I guess because, even though A has zeroes for the 3rd dimension,\n",
    "#A is still defined in R3?"
   ]
  }
 ],
 "metadata": {
  "kernelspec": {
   "display_name": "Python 2",
   "language": "python",
   "name": "python2"
  },
  "language_info": {
   "codemirror_mode": {
    "name": "ipython",
    "version": 2
   },
   "file_extension": ".py",
   "mimetype": "text/x-python",
   "name": "python",
   "nbconvert_exporter": "python",
   "pygments_lexer": "ipython2",
   "version": "2.7.13"
  }
 },
 "nbformat": 4,
 "nbformat_minor": 2
}
