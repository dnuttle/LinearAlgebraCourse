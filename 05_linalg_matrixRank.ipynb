{
 "cells": [
  {
   "cell_type": "code",
   "execution_count": 2,
   "metadata": {},
   "outputs": [],
   "source": [
    "import numpy as np\n",
    "import matplotlib.pyplot as plt\n",
    "import math"
   ]
  },
  {
   "cell_type": "markdown",
   "metadata": {},
   "source": [
    "\n",
    "---\n",
    "# VIDEO: Computing rank: theory and practice\n",
    "---\n"
   ]
  },
  {
   "cell_type": "code",
   "execution_count": 21,
   "metadata": {},
   "outputs": [
    {
     "name": "stdout",
     "output_type": "stream",
     "text": [
      "rank=4\n",
      "rank=4\n"
     ]
    }
   ],
   "source": [
    "# make a matrix\n",
    "m = 4\n",
    "n = 6\n",
    "\n",
    "# create a random matrix\n",
    "A = np.random.randn(m,n)\n",
    "\n",
    "# what is the largest possible rank?\n",
    "ra = np.linalg.matrix_rank(A)\n",
    "print('rank=' + str(ra))\n",
    "\n",
    "\n",
    "# set last column to be repeat of penultimate column\n",
    "B = A\n",
    "B[:,n-1] = B[:,n-2]\n",
    "rb = np.linalg.matrix_rank(B)\n",
    "print('rank=' + str(rb))"
   ]
  },
  {
   "cell_type": "code",
   "execution_count": 29,
   "metadata": {},
   "outputs": [
    {
     "name": "stdout",
     "output_type": "stream",
     "text": [
      "rank (w/o noise) = 3\n",
      "rank (with noise) = 4\n"
     ]
    }
   ],
   "source": [
    "## adding noise to a rank-deficient matrix\n",
    "\n",
    "# square for convenience\n",
    "A = np.round( 10*np.random.randn(m,m) )\n",
    "\n",
    "# reduce the rank\n",
    "A[:,m-1] = A[:,m-2]\n",
    "\n",
    "# noise level\n",
    "noiseamp = .001\n",
    "\n",
    "# add the noise\n",
    "B = A + noiseamp*np.random.randn(m,m)\n",
    "\n",
    "print('rank (w/o noise) = ' + str(np.linalg.matrix_rank(A)))\n",
    "print('rank (with noise) = ' + str(np.linalg.matrix_rank(B)))\n"
   ]
  },
  {
   "cell_type": "code",
   "execution_count": 46,
   "metadata": {},
   "outputs": [
    {
     "name": "stdout",
     "output_type": "stream",
     "text": [
      "[[ 323. -393.  206. -224.   22.  101.  294.  -14.  -38.  -22.]\n",
      " [-154.  125. -164.   20. -175.    5.  -12.  118.  -92.  184.]\n",
      " [  27.   -1.   48.   33.   96.  -53.  -59.  -67.   77. -125.]\n",
      " [ 235. -205.  160. -216.  -62.   25.  190.   62.  100.  -50.]\n",
      " [  52.  -70.   -6. -108. -126.   10.  108.   92.  -10.   72.]\n",
      " [ -50.    4.  -21.   85.   80.   82.  -17.  -67. -128.   63.]\n",
      " [  97. -365.   -8.  -44.   12.  325.  326.  -46. -504.  358.]\n",
      " [  94.   24.   45. -245. -280.    2.  137.  235.  168.   73.]\n",
      " [  82.  -97.   26. -163. -171.  149.  203.  133.  -93.  201.]\n",
      " [-209.   44. -156.  282.  189.   82. -120. -178. -322.  120.]]\n",
      "4\n"
     ]
    }
   ],
   "source": [
    "#coding challenge\n",
    "#create a rank-deficient matrix using matrix multiplication\n",
    "#start with 10 x 10 matrix with rank 4\n",
    "x = np.round(np.random.randn(10,4)*10)\n",
    "y = np.round(np.random.randn(4,10)*10)\n",
    "xy = np.matmul(x,y)\n",
    "print(xy)\n",
    "print(np.linalg.matrix_rank(xy))\n"
   ]
  },
  {
   "cell_type": "markdown",
   "metadata": {},
   "source": [
    "\n",
    "---\n",
    "# VIDEO: Rank of A^TA and AA^T\n",
    "---\n"
   ]
  },
  {
   "cell_type": "code",
   "execution_count": 45,
   "metadata": {},
   "outputs": [
    {
     "name": "stdout",
     "output_type": "stream",
     "text": [
      "AtA: 3x3, rank=3\n",
      "AAt: 14x14, rank=3\n"
     ]
    }
   ],
   "source": [
    "\n",
    "# matrix sizes\n",
    "m = 14\n",
    "n =  3\n",
    "\n",
    "# create matrices\n",
    "A = np.round( 10*np.random.randn(m,n) )\n",
    "\n",
    "AtA = np.matrix.transpose(A)@A\n",
    "AAt = A@np.matrix.transpose(A)\n",
    "\n",
    "# get matrix sizes\n",
    "sizeAtA = AtA.shape\n",
    "sizeAAt = AAt.shape\n",
    "\n",
    "# print info!\n",
    "print('AtA: %dx%d, rank=%d' %(sizeAtA[0],sizeAtA[1],np.linalg.matrix_rank(AtA)))\n",
    "print('AAt: %dx%d, rank=%d' %(sizeAAt[0],sizeAAt[1],np.linalg.matrix_rank(AAt)))\n"
   ]
  },
  {
   "cell_type": "code",
   "execution_count": 61,
   "metadata": {},
   "outputs": [
    {
     "name": "stdout",
     "output_type": "stream",
     "text": [
      "6\n",
      "6\n",
      "5\n",
      "5\n"
     ]
    }
   ],
   "source": [
    "#coding challenge\n",
    "#scalar multiplication and rank\n",
    "l = 3\n",
    "m = 6\n",
    "n = 6\n",
    "#full rank matrix\n",
    "x = np.round(np.random.randn(m,n) * 10)\n",
    "print(np.round(np.linalg.matrix_rank(x)))\n",
    "print(np.linalg.matrix_rank(l * x))\n",
    "\n",
    "#deficient rank matrix\n",
    "y = np.round(np.random.randn(m,n) * 10)\n",
    "y[:,m-2] = y[:,m-1]\n",
    "print(np.linalg.matrix_rank(y))\n",
    "print(np.linalg.matrix_rank(l * y))\n"
   ]
  },
  {
   "cell_type": "code",
   "execution_count": 72,
   "metadata": {},
   "outputs": [
    {
     "name": "stdout",
     "output_type": "stream",
     "text": [
      "4\n",
      "4\n",
      "4\n",
      "4\n",
      "4\n",
      "8\n",
      "[[0. 0. 0. 0. 0. 0. 0. 0. 0. 0.]\n",
      " [0. 0. 0. 0. 0. 0. 0. 0. 0. 0.]\n",
      " [0. 0. 0. 0. 0. 0. 0. 0. 0. 0.]\n",
      " [0. 0. 0. 0. 0. 0. 0. 0. 0. 0.]\n",
      " [0. 0. 0. 0. 0. 0. 0. 0. 0. 0.]\n",
      " [0. 0. 0. 0. 0. 0. 0. 0. 0. 0.]\n",
      " [0. 0. 0. 0. 0. 0. 0. 0. 0. 0.]\n",
      " [0. 0. 0. 0. 0. 0. 0. 0. 0. 0.]\n",
      " [0. 0. 0. 0. 0. 0. 0. 0. 0. 0.]\n",
      " [0. 0. 0. 0. 0. 0. 0. 0. 0. 0.]]\n"
     ]
    }
   ],
   "source": [
    "#coding challenge\n",
    "#rank of summed and multiplied matrices\n",
    "a = np.round(np.random.randn(10,4) * 10)\n",
    "b = np.round(np.random.randn(10, 4) * 10)\n",
    "print(np.linalg.matrix_rank(a))\n",
    "print(np.linalg.matrix_rank(b))\n",
    "ata = np.matmul(a, a.T)\n",
    "print(np.linalg.matrix_rank(ata))\n",
    "btb = np.matmul(b, b.T)\n",
    "print(np.linalg.matrix_rank(btb))\n",
    "print(np.linalg.matrix_rank(np.matmul(ata, btb)))\n",
    "print(np.linalg.matrix_rank(ata + btb))"
   ]
  },
  {
   "cell_type": "markdown",
   "metadata": {},
   "source": [
    "\n",
    "---\n",
    "# VIDEO: Making a matrix full-rank by \"shifting\"\n",
    "---\n"
   ]
  },
  {
   "cell_type": "code",
   "execution_count": 47,
   "metadata": {},
   "outputs": [
    {
     "name": "stdout",
     "output_type": "stream",
     "text": [
      "rank(w/o shift) = 29\n",
      "rank(with shift) = 30\n"
     ]
    }
   ],
   "source": [
    "# size of matrix\n",
    "m = 30\n",
    "\n",
    "# create the square symmetric matrix\n",
    "A = np.random.randn(m,m)\n",
    "A = np.round( 10*np.matrix.transpose(A)@A )\n",
    "\n",
    "# reduce the rank\n",
    "A[:,0] = A[:,1]\n",
    "\n",
    "# shift amount (l=lambda)\n",
    "l = .01\n",
    "\n",
    "# new matrix\n",
    "B = A + l*np.eye(m,m)\n",
    "\n",
    "# print information\n",
    "print('rank(w/o shift) = %d' %np.linalg.matrix_rank(A))\n",
    "print('rank(with shift) = %d' %np.linalg.matrix_rank(B))\n"
   ]
  }
 ],
 "metadata": {
  "kernelspec": {
   "display_name": "Python 2",
   "language": "python",
   "name": "python2"
  },
  "language_info": {
   "codemirror_mode": {
    "name": "ipython",
    "version": 2
   },
   "file_extension": ".py",
   "mimetype": "text/x-python",
   "name": "python",
   "nbconvert_exporter": "python",
   "pygments_lexer": "ipython2",
   "version": "2.7.13"
  }
 },
 "nbformat": 4,
 "nbformat_minor": 2
}
