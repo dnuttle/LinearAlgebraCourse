{
 "cells": [
  {
   "cell_type": "code",
   "execution_count": 2,
   "metadata": {},
   "outputs": [],
   "source": [
    "import numpy as np\n",
    "import matplotlib.pyplot as plt\n",
    "import math"
   ]
  },
  {
   "cell_type": "markdown",
   "metadata": {},
   "source": [
    "\n",
    "---\n",
    "# VIDEO: Standard matrix multiplication, parts 1 & 2\n",
    "---\n"
   ]
  },
  {
   "cell_type": "code",
   "execution_count": 30,
   "metadata": {},
   "outputs": [
    {
     "data": {
      "text/plain": [
       "array([[ 0.4380593 , -2.37450416,  2.85166543],\n",
       "       [ 1.59490291, -1.46327688, -3.85146193],\n",
       "       [ 2.82077069, -0.29010478, -2.19890968],\n",
       "       [-0.69531846, -0.73100731, -1.38464095]])"
      ]
     },
     "execution_count": 30,
     "metadata": {},
     "output_type": "execute_result"
    }
   ],
   "source": [
    "## rules for multiplication validity\n",
    "\n",
    "m = 4\n",
    "n = 3\n",
    "k = 6\n",
    "\n",
    "# make some matrices\n",
    "A = np.random.randn(m,n)\n",
    "B = np.random.randn(n,k)\n",
    "C = np.random.randn(m,k)\n",
    "\n",
    "# test which multiplications are valid.\n",
    "# Think of your answer first, then test.\n",
    "np.matmul(A,B)\n",
    "#np.matmul(A,A)\n",
    "np.matmul(np.matrix.transpose(A),C)\n",
    "np.matmul(B,np.matrix.transpose(B))\n",
    "np.matmul(np.matrix.transpose(B),B)\n",
    "#np.matmul(B,C)\n",
    "#np.matmul(C,B)\n",
    "#np.matmul(np.matrix.transpose(C),B)\n",
    "np.matmul(C,np.matrix.transpose(B))"
   ]
  },
  {
   "cell_type": "markdown",
   "metadata": {},
   "source": [
    "\n",
    "---\n",
    "# VIDEO: Order-of-operations on matrices\n",
    "---\n"
   ]
  },
  {
   "cell_type": "code",
   "execution_count": 3,
   "metadata": {},
   "outputs": [
    {
     "data": {
      "text/plain": [
       "array([[  0.00000000e+00,   2.22044605e-16],\n",
       "       [  0.00000000e+00,  -2.22044605e-16]])"
      ]
     },
     "execution_count": 3,
     "metadata": {},
     "output_type": "execute_result"
    }
   ],
   "source": [
    "\n",
    "n = 2\n",
    "L = np.random.randn(n,n)\n",
    "I = np.random.randn(n,n)\n",
    "V = np.random.randn(n,n)\n",
    "E = np.random.randn(n,n)\n",
    "\n",
    "# result of \"forward\" multiplication and then transpose\n",
    "res1 = np.matrix.transpose( L @ I @ V @ E )\n",
    "\n",
    "# result of \"flipped\" multiplication of transposed matrices\n",
    "res2 = np.matrix.transpose(E) @ np.matrix.transpose(V) @ np.matrix.transpose(I) @ np.matrix.transpose(L)\n",
    "\n",
    "# test equality by subtracting (ignore possible computer rounding errors)\n",
    "res1-res2"
   ]
  },
  {
   "cell_type": "markdown",
   "metadata": {},
   "source": [
    "\n",
    "---\n",
    "# VIDEO: Matrix-vector multiplication\n",
    "---\n"
   ]
  },
  {
   "cell_type": "code",
   "execution_count": 5,
   "metadata": {},
   "outputs": [
    {
     "data": {
      "text/plain": [
       "array([ -6.,  -4., -19.,  22.])"
      ]
     },
     "execution_count": 5,
     "metadata": {},
     "output_type": "execute_result"
    }
   ],
   "source": [
    "\n",
    "# number of elements\n",
    "m = 4\n",
    "\n",
    "# create matrices\n",
    "N = np.round( 10*np.random.randn(m,m) )\n",
    "S = np.round( np.matrix.transpose(N)*N/m**2 ) # scaled symmetric\n",
    "\n",
    "# and vector\n",
    "w = np.array([-1, 0, 1, 2])\n",
    "\n",
    "# with symmetric matrix\n",
    "# NOTE: The @ symbol for matrix multiplication is relatively new to Python\n",
    "S@w    # 1\n",
    "np.matrix.transpose(S@w) # 2\n",
    "w@S    # 3\n",
    "np.matrix.transpose(w)@np.matrix.transpose(S)  # 4\n",
    "np.matrix.transpose(w)@S   # 5\n",
    "\n",
    "\n",
    "# with nonsymmetric matrix\n",
    "N@w    # 1\n",
    "np.matrix.transpose(N@w) # 2\n",
    "w@N    # 3\n",
    "np.matrix.transpose(w)@np.matrix.transpose(N)  # 4\n",
    "np.matrix.transpose(w)@N   # 5\n"
   ]
  },
  {
   "cell_type": "code",
   "execution_count": 44,
   "metadata": {},
   "outputs": [
    {
     "name": "stdout",
     "output_type": "stream",
     "text": [
      "[[ 5  6]\n",
      " [15 18]]\n",
      "[[14 16]\n",
      " [28 32]]\n",
      "[[19 22]\n",
      " [43 50]]\n",
      "[[19 22]\n",
      " [43 50]]\n"
     ]
    }
   ],
   "source": [
    "#Coding challenge: matrix multiplication using layer method\n",
    "#1. Generate two matrices\n",
    "#2. Use layer method to multiply\n",
    "#3. Use matrix multiplication directly\n",
    "#4. Compare\n",
    "\n",
    "x = np.array([[1,2],[3,4]])\n",
    "y = np.array([[5,6],[7,8]])\n",
    "tot = np.array([[0,0],[0,0]])\n",
    "for i in np.arange(0, x.shape[0]):\n",
    "    layer = np.outer(x[:,i], y[i,:])\n",
    "    print(layer)\n",
    "    tot = tot + layer\n",
    "print(tot)\n",
    "print(x.dot(y))"
   ]
  },
  {
   "cell_type": "code",
   "execution_count": 60,
   "metadata": {},
   "outputs": [
    {
     "name": "stdout",
     "output_type": "stream",
     "text": [
      "[[3 4]\n",
      " [5 6]]\n",
      "[[1]\n",
      " [2]]\n",
      "[[11]\n",
      " [17]]\n",
      "[[13 16]]\n"
     ]
    },
    {
     "data": {
      "text/plain": [
       "array([[1, 2]])"
      ]
     },
     "execution_count": 60,
     "metadata": {},
     "output_type": "execute_result"
    }
   ],
   "source": [
    "#playing around\n",
    "S = np.array([[3,4],[5,6]])\n",
    "x = np.array([[1],[2]])\n",
    "print(S)\n",
    "print(x)\n",
    "#x applied as weights to columns of S\n",
    "print(np.matmul(S, x))\n",
    "#x applied as weightws to rows of S\n",
    "print(np.matmul(x.T,S))\n",
    "\n",
    "np.matrix.transpose(x)"
   ]
  },
  {
   "cell_type": "markdown",
   "metadata": {},
   "source": [
    "\n",
    "---\n",
    "# VIDEO: 2D transformation matrices\n",
    "---\n"
   ]
  },
  {
   "cell_type": "code",
   "execution_count": 26,
   "metadata": {},
   "outputs": [
    {
     "data": {
      "image/png": "[encoded data removed]",
      "text/plain": [
       "<matplotlib.figure.Figure at 0x7ff1f13a19b0>"
      ]
     },
     "metadata": {},
     "output_type": "display_data"
    }
   ],
   "source": [
    "# 2D input vector\n",
    "v = np.array([ 3, -2 ])\n",
    "\n",
    "# 2x2 transformation matrix\n",
    "A = np.array([ [1,-1], [2,1] ])\n",
    "\n",
    "# output vector is Av (convert v to column)\n",
    "w = A@np.matrix.transpose(v)\n",
    "\n",
    "\n",
    "# plot them\n",
    "plt.plot([0,v[0]],[0,v[1]],label='v')\n",
    "plt.plot([0,w[0]],[0,w[1]],label='Av')\n",
    "\n",
    "plt.grid()\n",
    "plt.axis((-6, 6, -6, 6))\n",
    "plt.legend()\n",
    "plt.title('Rotation + stretching')\n",
    "plt.show()"
   ]
  },
  {
   "cell_type": "code",
   "execution_count": 59,
   "metadata": {},
   "outputs": [
    {
     "ename": "SyntaxError",
     "evalue": "invalid syntax (<ipython-input-59-c326960d24e9>, line 11)",
     "output_type": "error",
     "traceback": [
      "\u001b[0;36m  File \u001b[0;32m\"<ipython-input-59-c326960d24e9>\"\u001b[0;36m, line \u001b[0;32m11\u001b[0m\n\u001b[0;31m    w = A@np.matrix.transpose(v)\u001b[0m\n\u001b[0m         ^\u001b[0m\n\u001b[0;31mSyntaxError\u001b[0m\u001b[0;31m:\u001b[0m invalid syntax\n"
     ]
    }
   ],
   "source": [
    "## pure rotation\n",
    "\n",
    "# 2D input vector\n",
    "v = np.array([ 3, -2 ])\n",
    "\n",
    "# 2x2 rotation matrix\n",
    "th = 5*np.pi/24\n",
    "A = np.array([ [math.cos(th),-math.sin(th)], [math.sin(th),math.cos(th)] ])\n",
    "\n",
    "# output vector is Av (convert v to column)\n",
    "w = A@np.matrix.transpose(v)\n",
    "\n",
    "# plot them\n",
    "plt.plot([0,v[0]],[0,v[1]],label='v')\n",
    "plt.plot([0,w[0]],[0,w[1]],label='Av')\n",
    "\n",
    "plt.grid()\n",
    "plt.axis((-4, 4, -4, 4))\n",
    "plt.legend()\n",
    "plt.title('Pure rotation')\n",
    "plt.show()"
   ]
  },
  {
   "cell_type": "markdown",
   "metadata": {},
   "source": [
    "\n",
    "---\n",
    "# VIDEO: Additive and multiplicative matrix identities\n",
    "---\n"
   ]
  },
  {
   "cell_type": "code",
   "execution_count": 60,
   "metadata": {},
   "outputs": [
    {
     "data": {
      "text/plain": [
       "True"
      ]
     },
     "execution_count": 60,
     "metadata": {},
     "output_type": "execute_result"
    }
   ],
   "source": [
    "# size of matrices\n",
    "n = 4\n",
    "\n",
    "A = np.round( 10*np.random.randn(n,n) )\n",
    "I = np.eye(n,n)\n",
    "Z = np.zeros((n,n))\n",
    "\n",
    "# test both identities\n",
    "np.array_equal( A@I , A   )\n",
    "np.array_equal( A   , A@I )\n",
    "np.array_equal( A   , A+I )\n",
    "\n",
    "np.array_equal( A   , A+I )\n",
    "np.array_equal( A+Z , A@I )\n"
   ]
  },
  {
   "cell_type": "markdown",
   "metadata": {},
   "source": [
    "\n",
    "---\n",
    "# VIDEO: Additive and multiplicative symmetric matrices\n",
    "---\n"
   ]
  },
  {
   "cell_type": "code",
   "execution_count": 86,
   "metadata": {},
   "outputs": [
    {
     "name": "stdout",
     "output_type": "stream",
     "text": [
      "[[ 0.  0.  0.  0.  0.]\n",
      " [ 0.  0.  0.  0.  0.]\n",
      " [ 0.  0.  0.  0.  0.]\n",
      " [ 0.  0.  0.  0.  0.]\n",
      " [ 0.  0.  0.  0.  0.]]\n"
     ]
    }
   ],
   "source": [
    "## the additive method\n",
    "\n",
    "# specify sizes\n",
    "m = 5\n",
    "n = 5\n",
    "\n",
    "# create matrices\n",
    "A = np.random.randn(m,n)\n",
    "S = ( A + np.matrix.transpose(A) )/2\n",
    "\n",
    "# A symmetric matrix minus its transpose should be all zeros\n",
    "print( S-np.matrix.transpose(S) )\n"
   ]
  },
  {
   "cell_type": "code",
   "execution_count": 96,
   "metadata": {},
   "outputs": [
    {
     "name": "stdout",
     "output_type": "stream",
     "text": [
      "(3, 3)\n",
      "(5, 5)\n",
      "[[ 0.  0.  0.]\n",
      " [ 0.  0.  0.]\n",
      " [ 0.  0.  0.]]\n",
      "[[ 0.  0.  0.  0.  0.]\n",
      " [ 0.  0.  0.  0.  0.]\n",
      " [ 0.  0.  0.  0.  0.]\n",
      " [ 0.  0.  0.  0.  0.]\n",
      " [ 0.  0.  0.  0.  0.]]\n"
     ]
    }
   ],
   "source": [
    "## the multiplicative method\n",
    "\n",
    "# specify sizes\n",
    "m = 5\n",
    "n = 3\n",
    "\n",
    "# create matrices\n",
    "A   = np.random.randn(m,n)\n",
    "AtA = np.matrix.transpose(A)@A\n",
    "AAt = A@np.matrix.transpose(A)\n",
    "\n",
    "# first, show that they are square\n",
    "print( AtA.shape )\n",
    "print( AAt.shape )\n",
    "\n",
    "\n",
    "# next, show that they are symmetric\n",
    "print( AtA - np.matrix.transpose(AtA) )\n",
    "print( AAt - np.matrix.transpose(AAt) )\n",
    "\n"
   ]
  },
  {
   "cell_type": "markdown",
   "metadata": {},
   "source": [
    "\n",
    "---\n",
    "# VIDEO: Element-wise (Hadamard) multiplication\n",
    "---\n"
   ]
  },
  {
   "cell_type": "code",
   "execution_count": 100,
   "metadata": {},
   "outputs": [
    {
     "name": "stdout",
     "output_type": "stream",
     "text": [
      "[[ -7.66323146e-01  -8.25906929e-02]\n",
      " [ -3.90966578e-02   3.55398187e-01]\n",
      " [  2.56140438e-01   8.10723166e-02]\n",
      " [ -3.34874260e+00  -1.01767138e+00]\n",
      " [  1.10493988e+00   1.31099017e-01]\n",
      " [ -2.04041307e+00  -1.72216741e+00]\n",
      " [ -3.82003034e-02   6.25393221e-01]\n",
      " [ -5.75491697e-01   1.34932994e+00]\n",
      " [  1.06584279e+00  -6.19962559e-01]\n",
      " [ -3.27215150e-01   4.13362140e-02]\n",
      " [  1.86198252e-01  -1.57051310e-01]\n",
      " [ -1.91929460e-03   2.33527471e-01]\n",
      " [ -1.95764360e-01   1.84572276e-01]]\n"
     ]
    }
   ],
   "source": [
    "# any matrix sizes\n",
    "m = 13\n",
    "n =  2\n",
    "\n",
    "# ...but the two matrices must be the same size\n",
    "A = np.random.randn(m,n)\n",
    "B = np.random.randn(m,n)\n",
    "\n",
    "# note the different syntax compared to @ for matrix multiplication\n",
    "C = np.multiply( A,B )\n",
    "\n",
    "print(C)\n"
   ]
  },
  {
   "cell_type": "code",
   "execution_count": 104,
   "metadata": {},
   "outputs": [
    {
     "name": "stdout",
     "output_type": "stream",
     "text": [
      "[[0 0]\n",
      " [0 0]]\n",
      "[[0 0]\n",
      " [0 0]]\n",
      "[[46 34]\n",
      " [34 46]]\n",
      "[[46 34]\n",
      " [34 46]]\n",
      "[[0 0]\n",
      " [0 0]]\n",
      "[[ 0 -2 -4]\n",
      " [ 2  0 -2]\n",
      " [ 4  2  0]]\n"
     ]
    }
   ],
   "source": [
    "#coding challenge\n",
    "#symmetry of combined symmetric matrices\n",
    "#three methods: addition, multiplication, Hadamard multiplication\n",
    "#which result in symmetric matrices?\n",
    "x = np.array([[1,7],[7,1]])\n",
    "y = np.array([[4,6],[6,4]])\n",
    "ma = x + y\n",
    "print(ma - ma.T)\n",
    "#this is an edge case that does produce a symmetric matrix; usually x*y will not, even if x & y are symmetric\n",
    "mm = np.matmul(x, y)\n",
    "print(mm - mm.T)\n",
    "mh = np.multiply(x, y)\n",
    "print(mh - mh.T)\n",
    "\n",
    "x = np.array([[1,2,3],[2,1,4],[3,4,1]])\n",
    "y = np.array([[1,4,5],[4,1,6],[5,6,1]])\n",
    "xy = np.matmul(x, y)\n",
    "print(xy - xy.T)"
   ]
  },
  {
   "cell_type": "code",
   "execution_count": 72,
   "metadata": {},
   "outputs": [
    {
     "name": "stdout",
     "output_type": "stream",
     "text": [
      "[[0. 0. 0.]\n",
      " [0. 0. 0.]\n",
      " [0. 0. 0.]]\n",
      "[[ 0.         -0.21943146  0.38737337]\n",
      " [ 0.21943146  0.          0.27539626]\n",
      " [-0.38737337 -0.27539626  0.        ]]\n",
      "[[0. 0. 0.]\n",
      " [0. 0. 0.]\n",
      " [0. 0. 0.]]\n"
     ]
    }
   ],
   "source": [
    "x = np.random.randn(3,3)\n",
    "x = x.T*x\n",
    "y = np.random.randn(3,3)\n",
    "y = y.T*y\n",
    "ma = x + y\n",
    "mm = np.matmul(x, y)\n",
    "mh = np.multiply(x, y)\n",
    "print(ma - ma.T)\n",
    "print(mm - mm.T)\n",
    "print(mh - mh.T)"
   ]
  },
  {
   "cell_type": "code",
   "execution_count": 111,
   "metadata": {},
   "outputs": [
    {
     "name": "stdout",
     "output_type": "stream",
     "text": [
      "X\n",
      "[[ 1.2115183   0.35753284  0.28195563 -2.32270843]\n",
      " [ 0.07805201  0.77966513 -0.32478635 -1.65648225]\n",
      " [ 0.31756858 -0.07007396 -0.30016596 -0.31621703]\n",
      " [ 0.36046943  1.19104612 -0.36928733 -0.53103589]]\n",
      "X*X\n",
      "[[ 0.74795763 -2.07429714  0.99858595 -2.26196821]\n",
      " [-0.54483728 -1.31440382  0.47799033 -0.49043901]\n",
      " [ 0.16996088 -0.29668828  0.31917386 -0.35870277]\n",
      " [ 0.22098259  0.45088598  0.02175318 -2.41143808]]\n",
      "X*X Hadamard\n",
      "[[1.46777659e+00 1.27829732e-01 7.94989798e-02 5.39497444e+00]\n",
      " [6.09211612e-03 6.07877720e-01 1.05486171e-01 2.74393345e+00]\n",
      " [1.00849803e-01 4.91035931e-03 9.00996023e-02 9.99932105e-02]\n",
      " [1.29938207e-01 1.41859086e+00 1.36373135e-01 2.81999116e-01]]\n",
      "Y*Y\n",
      "[[ 1  0  0  0]\n",
      " [ 0  4  0  0]\n",
      " [ 0  0 25  0]\n",
      " [ 0  0  0  1]]\n",
      "Y*Y Hadamard\n",
      "[[ 1  0  0  0]\n",
      " [ 0  4  0  0]\n",
      " [ 0  0 25  0]\n",
      " [ 0  0  0  1]]\n"
     ]
    }
   ],
   "source": [
    "#coding challenge: standard & Hadamard multiplication for diagonal matrices\n",
    "x = np.random.randn(4,4)\n",
    "y = np.array([[1,0,0,0],[0,2,0,0],[0,0,5,0],[0,0,0,-1]])\n",
    "print(\"X\")\n",
    "print(x)\n",
    "print(\"X*X\")\n",
    "print(np.matmul(x, x))\n",
    "print(\"X*X Hadamard\")\n",
    "print(np.multiply(x, x))\n",
    "print(\"Y*Y\")\n",
    "print(np.matmul(y, y))\n",
    "print(\"Y*Y Hadamard\")\n",
    "print(np.multiply(y,y))"
   ]
  },
  {
   "cell_type": "markdown",
   "metadata": {},
   "source": [
    "\n",
    "---\n",
    "# VIDEO: Frobenius dot-product\n",
    "---\n"
   ]
  },
  {
   "cell_type": "code",
   "execution_count": 133,
   "metadata": {},
   "outputs": [
    {
     "name": "stdout",
     "output_type": "stream",
     "text": [
      "-9.04942176577\n",
      "-9.04942176577\n",
      "6.3470309416\n",
      "6.3470309416\n"
     ]
    }
   ],
   "source": [
    "# any matrix sizes\n",
    "m = 9\n",
    "n = 4\n",
    "\n",
    "# but the two matrices must be the same size\n",
    "A = np.random.randn(m,n)\n",
    "B = np.random.randn(m,n)\n",
    "\n",
    "# first vectorize, then vector-dot-product\n",
    "Av = np.reshape( A,m*n, order='F' ) # order='F' reshapes by columns instead of by rows\n",
    "Bv = np.reshape( B,m*n, order='F' )\n",
    "frob_dp = np.dot( Av,Bv )\n",
    "\n",
    "# trace method\n",
    "frob_dp2 = np.trace( np.matrix.transpose(A)@B )\n",
    "print(frob_dp2)\n",
    "print(frob_dp)\n",
    "\n",
    "# matrix norm\n",
    "Anorm  = np.linalg.norm(A,'fro')\n",
    "Anorm2 = np.sqrt( np.trace( np.matrix.transpose(A)@A ) )\n",
    "print(Anorm)\n",
    "print(Anorm2)"
   ]
  },
  {
   "cell_type": "code",
   "execution_count": 22,
   "metadata": {},
   "outputs": [
    {
     "name": "stdout",
     "output_type": "stream",
     "text": [
      "[[1 2]\n",
      " [2 1]]\n",
      "[[1 3]\n",
      " [3 1]]\n",
      "[[7 5]\n",
      " [5 7]]\n",
      "[[1 2 3]\n",
      " [2 1 4]\n",
      " [3 4 3]]\n",
      "[[1 3 3]\n",
      " [3 1 4]\n",
      " [3 4 3]]\n"
     ]
    },
    {
     "data": {
      "text/plain": [
       "array([[16, 17, 20],\n",
       "       [17, 23, 22],\n",
       "       [24, 25, 34]])"
      ]
     },
     "execution_count": 22,
     "metadata": {},
     "output_type": "execute_result"
    }
   ],
   "source": [
    "m = 3\n",
    "A = np.random.randn(m, m)\n",
    "A = np.matmul(A,A.T)\n",
    "B = np.random.randn(m, m)\n",
    "B = np.matmul(B, B.T)\n",
    "np.matmul(A, B)\n",
    "\n",
    "#multiplying two symmetric 2x2 matrices yields another symmetric matrx\n",
    "#(but only if the diagonal values are all the same)\n",
    "A = np.array([[1,2],[2,1]])\n",
    "B = np.array([[1,3],[3,1]])\n",
    "print(A)\n",
    "print(B)\n",
    "print(np.matmul(A, B))\n",
    "\n",
    "#but multiplying two symmetric 3x3 matrices does not\n",
    "A = np.array([[1,2,3],[2,1,4],[3,4,3]])\n",
    "B = np.array([[1,3,3],[3,1,4],[3,4,3]])\n",
    "print(A)\n",
    "print(B)\n",
    "np.matmul(A, B)"
   ]
  }
 ],
 "metadata": {
  "kernelspec": {
   "display_name": "Python 2",
   "language": "python",
   "name": "python2"
  },
  "language_info": {
   "codemirror_mode": {
    "name": "ipython",
    "version": 2
   },
   "file_extension": ".py",
   "mimetype": "text/x-python",
   "name": "python",
   "nbconvert_exporter": "python",
   "pygments_lexer": "ipython2",
   "version": "2.7.13"
  }
 },
 "nbformat": 4,
 "nbformat_minor": 2
}
